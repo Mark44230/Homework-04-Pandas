{
 "cells": [
  {
   "cell_type": "code",
   "execution_count": null,
   "metadata": {},
   "outputs": [],
   "source": [
    " # Dependencies and Setup\n",
    "import pandas as pd\n",
    "import numpy as np\n",
    "from scipy.stats import percentileofscore"
   ]
  },
  {
   "cell_type": "code",
   "execution_count": null,
   "metadata": {},
   "outputs": [],
   "source": [
    "# File to Load \n",
    "school_data_to_load = \"Resources/schools_complete.csv\"\n",
    "student_data_to_load = \"Resources/students_complete.csv\""
   ]
  },
  {
   "cell_type": "code",
   "execution_count": null,
   "metadata": {},
   "outputs": [],
   "source": [
    "# Read School and Student Data File and store into Pandas Data Frames\n",
    "school_dat = pd.read_csv(school_data_to_load)\n",
    "student_dat = pd.read_csv(student_data_to_load) "
   ]
  },
  {
   "cell_type": "code",
   "execution_count": null,
   "metadata": {},
   "outputs": [],
   "source": [
    "# Flawed dataset, should not move forward until resolved.  \n",
    "# Concerns in terms of number of student records and qualifications/titles included in the student name field: \n",
    "    #229 DDS, 141 DVM, 347 MD, 82 PhD, 193 Dr. unspecified, 224 Mr., 132 Mrs., 25 Ms. The last three could be valid, but \n",
    "    # still suspicious for their low occurence rates. \n",
    "# But what the heck, I'm proceeding anyway.      "
   ]
  },
  {
   "cell_type": "code",
   "execution_count": null,
   "metadata": {},
   "outputs": [],
   "source": [
    "#  Prep the School level data"
   ]
  },
  {
   "cell_type": "code",
   "execution_count": null,
   "metadata": {},
   "outputs": [],
   "source": [
    "#  Compute the budget per student and add to school dataset\n",
    "school_dat['budget_per_stu'] = school_dat['budget'] / school_dat['size']"
   ]
  },
  {
   "cell_type": "code",
   "execution_count": null,
   "metadata": {},
   "outputs": [],
   "source": [
    "#  Create per student budget bins and add to school dataset\n",
    "perstu_bins = [0, 600, 630, 650, 675]\n",
    "perstu_bin_labels = [\"<$600\", \"$600-629\", \"$630-649\", \"$650-675\"]\n",
    "school_dat[\"$ Per Student\"] = pd.cut(school_dat['budget_per_stu'], perstu_bins, labels=perstu_bin_labels)"
   ]
  },
  {
   "cell_type": "code",
   "execution_count": null,
   "metadata": {},
   "outputs": [],
   "source": [
    "#  Create school size bins and add to student dataset\n",
    "studn_bins = [0, 1000, 2000, 3000, 5000]\n",
    "studn_bin_labels = ['Under 1,000', '1,000-1,999', '2,000-2,999', 'Over 3,000']\n",
    "school_dat[\"Student N\"] = pd.cut(school_dat['size'], studn_bins, labels=studn_bin_labels)"
   ]
  },
  {
   "cell_type": "code",
   "execution_count": null,
   "metadata": {},
   "outputs": [],
   "source": [
    "#  Combine the student and school data sets into a single dataset\n",
    "comb_dat = pd.merge(student_dat, school_dat, how=\"left\", on=[\"school_name\", \"school_name\"])"
   ]
  },
  {
   "cell_type": "code",
   "execution_count": null,
   "metadata": {},
   "outputs": [],
   "source": [
    "#  Compute pass/fail and overall score \n",
    "pass_read = comb_dat['reading_score'] >= 70\n",
    "pass_math = comb_dat['math_score'] >= 70\n",
    "over_score = (comb_dat['reading_score'] + comb_dat['math_score']) / 2\n",
    "comb_dat['over_score'] = over_score\n",
    "pass_over = comb_dat['over_score'] >= 70"
   ]
  },
  {
   "cell_type": "code",
   "execution_count": null,
   "metadata": {},
   "outputs": [],
   "source": [
    "# Add new variables to the file and converted from True/False to 0/1\n",
    "comb_dat['pass_read'] = pass_read\n",
    "comb_dat['pass_math'] = pass_math\n",
    "comb_dat['pass_over'] = pass_over\n",
    "comb_dat[['pass_read', 'pass_math', 'pass_over']] = (comb_dat[['pass_read', 'pass_math', 'pass_over']]).astype(int)"
   ]
  },
  {
   "cell_type": "code",
   "execution_count": null,
   "metadata": {},
   "outputs": [],
   "source": [
    "# Typically overall pass/fail for theses types of tests would require passing both tests individually, so I threw this \n",
    "# decision rule into mix to see how they compared.  \n",
    "pass_both = comb_dat['pass_read'] * comb_dat['pass_math']\n",
    "comb_dat['pass_both'] = pass_both"
   ]
  },
  {
   "cell_type": "code",
   "execution_count": null,
   "metadata": {},
   "outputs": [],
   "source": [
    "# District Summary"
   ]
  },
  {
   "cell_type": "code",
   "execution_count": null,
   "metadata": {},
   "outputs": [],
   "source": [
    "# Brought in and did remaining computations on variables for the District Summary.  Then added column names\n",
    "ds_tab_dat = pd.DataFrame([[len(school_dat), np.sum(school_dat['size']), np.sum(school_dat['budget']), np.mean(comb_dat['math_score']),\n",
    "               np.mean(comb_dat['reading_score']), np.mean(comb_dat['pass_math']) * 100, np.mean(comb_dat['pass_read']) * 100,\n",
    "               np.mean(comb_dat['pass_over']) * 100, np.mean(comb_dat['pass_both']) * 100]])\n",
    "ds_tab_dat.columns = (['Total Schools','Total Students','Total Budget','Mean Math Score','Mean Reading Score',\n",
    "                       '% Pass Math','% Pass Reading', '% Pass Overall', \"% Pass Reading & Math\"])"
   ]
  },
  {
   "cell_type": "code",
   "execution_count": null,
   "metadata": {},
   "outputs": [],
   "source": [
    "# Print District Summary\n",
    "ds_tab_dat"
   ]
  },
  {
   "cell_type": "code",
   "execution_count": null,
   "metadata": {},
   "outputs": [],
   "source": [
    "# School Summary"
   ]
  },
  {
   "cell_type": "code",
   "execution_count": null,
   "metadata": {},
   "outputs": [],
   "source": [
    "# Brought in data for the School Summary.  Then added column names\n",
    "school_tab = comb_dat[['school_name', 'size','budget','budget_per_stu','math_score','reading_score','pass_math','pass_read','pass_over','pass_both']]\n",
    "school_grouped_dat = school_tab.groupby(['school_name'])\n",
    "school_tab_M = school_grouped_dat.mean()\n",
    "school_tab_M.columns = (['School Size','Total Budget', '$ per Student','Mean Math Score','Mean Reading Score',\n",
    "                       '% Pass Math','% Pass Reading', '% Pass Overall', \"% Pass Reading & Math\"])"
   ]
  },
  {
   "cell_type": "code",
   "execution_count": null,
   "metadata": {},
   "outputs": [],
   "source": [
    "# Print School Summary\n",
    "school_tab_M"
   ]
  },
  {
   "cell_type": "code",
   "execution_count": null,
   "metadata": {},
   "outputs": [],
   "source": [
    "#  Identify Top Performing Schools and print Top Five based on Overall Pass Rates\n",
    "school_tab_M = school_tab_M.sort_values('% Pass Overall', ascending=False)\n",
    "school_tab_M.head(5)"
   ]
  },
  {
   "cell_type": "code",
   "execution_count": null,
   "metadata": {
    "scrolled": true
   },
   "outputs": [],
   "source": [
    "#  Identify Bottom Performing Schools and print Bottom Five based on Overall Pass Rates\n",
    "school_tab_M = school_tab_M.sort_values('% Pass Overall', ascending=True)\n",
    "school_tab_M.head(5)"
   ]
  },
  {
   "cell_type": "code",
   "execution_count": null,
   "metadata": {},
   "outputs": [],
   "source": [
    "#  Math and Reading Scores by Grade Levels\n",
    "#  Create DataFrames for each grade including both sets of test scores.\n",
    "\n",
    "grade_9 = comb_dat.loc[comb_dat['grade'] == '9th', ['school_name','grade','math_score', 'reading_score']]\n",
    "grade_10 = comb_dat.loc[comb_dat['grade'] == '10th', ['school_name','grade','math_score', 'reading_score']]\n",
    "grade_11 = comb_dat.loc[comb_dat['grade'] == '11th', ['school_name','grade','math_score', 'reading_score']]\n",
    "grade_12 = comb_dat.loc[comb_dat['grade'] == '12th', ['school_name','grade','math_score', 'reading_score']]\n"
   ]
  },
  {
   "cell_type": "code",
   "execution_count": null,
   "metadata": {},
   "outputs": [],
   "source": [
    "# Compute means for each of the test score columns in each of the Grade-level specific DataFrames.\n",
    "\n",
    "grade_9_grouped_dat = grade_9.groupby(['school_name'])\n",
    "grade_9_M = grade_9_grouped_dat.mean()\n",
    "grade_10_grouped_dat = grade_10.groupby(['school_name'])\n",
    "grade_10_M = grade_10_grouped_dat.mean()\n",
    "grade_11_grouped_dat = grade_11.groupby(['school_name'])\n",
    "grade_11_M = grade_11_grouped_dat.mean()\n",
    "grade_12_grouped_dat = grade_12.groupby(['school_name'])\n",
    "grade_12_M = grade_12_grouped_dat.mean()\n",
    "grade_9_M.reset_index(inplace=True)\n",
    "grade_10_M.reset_index(inplace=True)\n",
    "grade_11_M.reset_index(inplace=True)\n",
    "grade_12_M.reset_index(inplace=True)"
   ]
  },
  {
   "cell_type": "code",
   "execution_count": null,
   "metadata": {},
   "outputs": [],
   "source": []
  },
  {
   "cell_type": "code",
   "execution_count": null,
   "metadata": {},
   "outputs": [],
   "source": [
    "# assemble columns from data frames to produce Math results by Grade Level\n",
    "\n",
    "math_by_grade = grade_9_M.drop('reading_score', axis = 1)\n",
    "math_by_grade.rename(columns = {'math_score' : '9th Grade Math'}, inplace = True)\n",
    "math_by_grade['10th Grade Math'] = grade_10_M['math_score']\n",
    "math_by_grade['11th Grade Math'] = grade_11_M['math_score']\n",
    "math_by_grade['12th Grade Math'] = grade_12_M['math_score']"
   ]
  },
  {
   "cell_type": "code",
   "execution_count": null,
   "metadata": {},
   "outputs": [],
   "source": [
    "math_by_grade"
   ]
  },
  {
   "cell_type": "code",
   "execution_count": null,
   "metadata": {},
   "outputs": [],
   "source": [
    "# assemble columns from data frames to produce Reading results by Grade Level\n",
    "\n",
    "reading_by_grade = grade_9_M.drop('math_score', axis = 1)\n",
    "reading_by_grade.rename(columns = {'reading_score' : '9th Grade Reading'}, inplace = True)\n",
    "reading_by_grade['10th Grade Reading'] = grade_10_M['reading_score']\n",
    "reading_by_grade['11th Grade Reading'] = grade_11_M['reading_score']\n",
    "reading_by_grade['12th Grade Reading'] = grade_12_M['reading_score']"
   ]
  },
  {
   "cell_type": "code",
   "execution_count": null,
   "metadata": {},
   "outputs": [],
   "source": [
    "reading_by_grade"
   ]
  },
  {
   "cell_type": "code",
   "execution_count": null,
   "metadata": {},
   "outputs": [],
   "source": [
    "#  Use Bins created earlier to compute scores and pass rates by per student spending. \n",
    "\n",
    "spend_dat = comb_dat[['$ Per Student','math_score','reading_score','pass_math','pass_read','pass_over','pass_both']]\n",
    "spend_grouped_dat = spend_dat.groupby(['$ Per Student'])\n",
    "spend_tab_M = spend_grouped_dat.mean() \n",
    "spend_tab_M.columns = (['Mean Math Score','Mean Reading Score',\n",
    "                       '% Pass Math','% Pass Reading', '% Pass Overall', \"% Pass Reading & Math\"])"
   ]
  },
  {
   "cell_type": "code",
   "execution_count": null,
   "metadata": {},
   "outputs": [],
   "source": [
    "spend_tab_M"
   ]
  },
  {
   "cell_type": "code",
   "execution_count": null,
   "metadata": {},
   "outputs": [],
   "source": [
    "# Scores by School Size: Perform the same operations as above, based on school size."
   ]
  },
  {
   "cell_type": "code",
   "execution_count": null,
   "metadata": {},
   "outputs": [],
   "source": [
    "ssize_dat = comb_dat[['Student N','math_score','reading_score','pass_math','pass_read','pass_over','pass_both']]\n",
    "ssize_grouped_dat = ssize_dat.groupby(['Student N'])\n",
    "ssize_tab_M = ssize_grouped_dat.mean()\n",
    "ssize_tab_M.columns = (['Mean Math Score','Mean Reading Score',\n",
    "                       '% Pass Math','% Pass Reading', '% Pass Overall', \"% Pass Reading & Math\"])"
   ]
  },
  {
   "cell_type": "code",
   "execution_count": null,
   "metadata": {
    "scrolled": true
   },
   "outputs": [],
   "source": [
    "ssize_tab_M"
   ]
  },
  {
   "cell_type": "code",
   "execution_count": null,
   "metadata": {},
   "outputs": [],
   "source": [
    "#  Use existing school types to compute scores and pass rates by per student spending. \n",
    "\n",
    "type_dat = comb_dat[['type','math_score','reading_score','pass_math','pass_read','pass_over','pass_both']]\n",
    "type_grouped_dat = type_dat.groupby(['type'])\n",
    "type_tab_M = type_grouped_dat.mean()\n",
    "type_tab_M.columns = (['Mean Math Score','Mean Reading Score',\n",
    "                       '% Pass Math','% Pass Reading', '% Pass Overall', \"% Pass Reading & Math\"])"
   ]
  },
  {
   "cell_type": "code",
   "execution_count": null,
   "metadata": {},
   "outputs": [],
   "source": [
    "type_tab_M"
   ]
  },
  {
   "cell_type": "code",
   "execution_count": null,
   "metadata": {},
   "outputs": [],
   "source": [
    "# Conclusions: \n",
    "## Data is suspect. \n",
    "## The lowest scores in all categories were from distict schools, no Charter School had lower average test scores \n",
    "##    than any of the District schools. \n",
    "## Charter schools had fewer students than District schools and their per student budgets were generally lower than the \n",
    "## District schools.  "
   ]
  }
 ],
 "metadata": {
  "kernelspec": {
   "display_name": "Python 3",
   "language": "python",
   "name": "python3"
  },
  "language_info": {
   "codemirror_mode": {
    "name": "ipython",
    "version": 3
   },
   "file_extension": ".py",
   "mimetype": "text/x-python",
   "name": "python",
   "nbconvert_exporter": "python",
   "pygments_lexer": "ipython3",
   "version": "3.7.1"
  }
 },
 "nbformat": 4,
 "nbformat_minor": 2
}
